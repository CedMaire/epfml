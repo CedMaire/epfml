{
 "cells": [
  {
   "cell_type": "code",
   "execution_count": 73,
   "metadata": {},
   "outputs": [],
   "source": [
    "import numpy as np \n",
    "\n",
    "def build_poly(tx, degree):\n",
    "    for idx, x in enumerate(tx.T):\n",
    "        if idx == 0:\n",
    "            arr_out = build_poly_one_column(x, degree)\n",
    "        else:\n",
    "            arr_out = np.c_[arr_out, build_poly_one_column(x, degree)]\n",
    "    return arr_out\n",
    "\n",
    "def build_poly_oxne_column(x, degree):\n",
    "    arr = np.zeros((x.shape[0], degree+1))\n",
    "    print(arr.shape)\n",
    "    for degre in range(degree+1):\n",
    "        arr[:,degre] = np.power(x, degre)\n",
    "    return arr"
   ]
  },
  {
   "cell_type": "code",
   "execution_count": 74,
   "metadata": {
    "scrolled": false
   },
   "outputs": [
    {
     "name": "stdout",
     "output_type": "stream",
     "text": [
      "(4, 3)\n",
      "4\n",
      "(4, 4)\n",
      "(4, 4)\n",
      "(4, 4)\n",
      "[[ 1.  1.  1.  1.  1.  1.  1.  1.  1.  1.  1.  1.]\n",
      " [ 1.  2.  4.  8.  1.  3.  9. 27.  1.  2.  4.  8.]\n",
      " [ 1.  3.  9. 27.  1.  3.  9. 27.  1.  3.  9. 27.]\n",
      " [ 1.  4. 16. 64.  1.  4. 16. 64.  1.  4. 16. 64.]]\n",
      "(4, 4)\n",
      "[[ 1.  1.  1.  1.]\n",
      " [ 1.  2.  4.  8.]\n",
      " [ 1.  3.  9. 27.]\n",
      " [ 1.  4. 16. 64.]]\n"
     ]
    }
   ],
   "source": [
    "tx = np.array([[1,1,1],[2,3,2],[3,3,3],[4,4,4]])\n",
    "print(tx.shape)\n",
    "print(tx.shape[0])\n",
    "print(build_poly_4(tx, 3))\n",
    "tx = np.array([1,2,3,4])\n",
    "print(build_poly_2(tx, 3))"
   ]
  },
  {
   "cell_type": "code",
   "execution_count": null,
   "metadata": {},
   "outputs": [],
   "source": []
  }
 ],
 "metadata": {
  "kernelspec": {
   "display_name": "Python 3",
   "language": "python",
   "name": "python3"
  },
  "language_info": {
   "codemirror_mode": {
    "name": "ipython",
    "version": 3
   },
   "file_extension": ".py",
   "mimetype": "text/x-python",
   "name": "python",
   "nbconvert_exporter": "python",
   "pygments_lexer": "ipython3",
   "version": "3.6.5"
  }
 },
 "nbformat": 4,
 "nbformat_minor": 2
}
